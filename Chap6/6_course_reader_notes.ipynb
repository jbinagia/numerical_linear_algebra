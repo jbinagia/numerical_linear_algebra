{
 "cells": [
  {
   "cell_type": "markdown",
   "metadata": {},
   "source": [
    "# Eigenvalues and eigenvectors\n",
    "* QR iteration is widely considered to be one of the most important algorithms of the 20th century. Very efficient and reliable way to calculate eigenvalues numerically. Big focus of this chapter of the course reader.\n",
    "\n",
    "### Aside: computing eigenvalues exactly is \"impossible\" \n",
    "* No direct methods like there are for solving $A x = b$ (exact if we assume no roundoff error). Only iterative methods. \n",
    "* However these methods are pretty good nowadays, converging to ROE within a few iterations. \n",
    "* The reason is that no exact solution to roots of a polynomial of degree 5 or higher\n",
    "* This matters since eigenvalue problem is equivalent to solving a polynomial equation for the eigenvalues (characteristic equation) \n",
    "\n",
    "## Methods for computing a single eigenvalue \n",
    "### Power iteration\n",
    "* $()^H$ denotes the conjugate transpose\n",
    "* $A^k = X \\Lambda^k X^{-1}=\\sum_i \\lambda_i^k x_i y_i^H$ where $y_i$ is the $i$-th column of $(X^{-1})^H$. \n",
    "* Assuming $\\Vert \\lambda_1 \\Vert > \\Vert \\lambda_2 \\Vert \\geq ... \\geq \\Vert \\lambda_n \\Vert$ then $A^k \\approx \\lambda_1^k x_1 y_1^H$ for large enough $k$. \n",
    "\n",
    "The key insight is that if we multiply by some random vector $z$ then we reveal a way to compute the first eigenvector $x_1$: \n",
    "$$ A^k z\\approx (\\lambda_1^k y_1^H z) x_1$$\n",
    "\n",
    "To normalize $x_1$ we simply take $\\tilde{x}_1=(A^k z)/\\Vert A^k z \\Vert$. Then $\\lambda_1$ is found from the definition of $\\tilde{x}_1$ as an eigenvector."
   ]
  },
  {
   "cell_type": "code",
   "execution_count": 1,
   "metadata": {},
   "outputs": [
    {
     "name": "stdout",
     "output_type": "stream",
     "text": [
      "eigvals(A) = [1.0, 3.0]\n",
      "eigvecs(A) = [-0.7071067811865475 0.7071067811865475; 0.7071067811865475 0.7071067811865475]\n"
     ]
    }
   ],
   "source": [
    "using LinearAlgebra\n",
    "\n",
    "A = [2 1; 1 2]\n",
    "@show eigvals(A)\n",
    "@show eigvecs(A);"
   ]
  },
  {
   "cell_type": "code",
   "execution_count": 7,
   "metadata": {
    "scrolled": true
   },
   "outputs": [
    {
     "ename": "UndefVarError",
     "evalue": "UndefVarError: ev not defined",
     "output_type": "error",
     "traceback": [
      "UndefVarError: ev not defined",
      "",
      "Stacktrace:",
      " [1] top-level scope at In[7]:13"
     ]
    }
   ],
   "source": [
    "q = randn(size(A,1))\n",
    "q /= norm(q)\n",
    "\n",
    "niter = 20\n",
    "err = zeros(niter)\n",
    "\n",
    "for iter = 1:niter\n",
    "    z = A*q\n",
    "    global ev = q'*z\n",
    "    q = z/norm(z)\n",
    "    err[iter] = abs(ev - maximum(eigvals(A)))\n",
    "end\n",
    "\n",
    "@show ev\n",
    "@show z;"
   ]
  },
  {
   "cell_type": "code",
   "execution_count": 3,
   "metadata": {},
   "outputs": [
    {
     "data": {
      "text/html": [
       "<script>\n",
       "// Immediately-invoked-function-expression to avoid global variables.\n",
       "(function() {\n",
       "    var warning_div = document.getElementById(\"webio-warning-5778869639279644104\");\n",
       "    var hide = function () {\n",
       "        var script = document.getElementById(\"webio-setup-16613519395045415030\");\n",
       "        var parent = script && script.parentElement;\n",
       "        var grandparent = parent && parent.parentElement;\n",
       "        if (grandparent) {\n",
       "            grandparent.style.display = \"none\";\n",
       "        }\n",
       "        warning_div.style.display = \"none\";\n",
       "    };\n",
       "    if (typeof Jupyter !== \"undefined\") {\n",
       "        console.log(\"WebIO detected Jupyter notebook environment.\");\n",
       "        // Jupyter notebook.\n",
       "        var extensions = (\n",
       "            Jupyter\n",
       "            && Jupyter.notebook.config.data\n",
       "            && Jupyter.notebook.config.data.load_extensions\n",
       "        );\n",
       "        if (extensions && extensions[\"webio-jupyter-notebook\"]) {\n",
       "            // Extension already loaded.\n",
       "            console.log(\"Jupyter WebIO nbextension detected; not loading ad-hoc.\");\n",
       "            hide();\n",
       "            return;\n",
       "        }\n",
       "    } else if (window.location.pathname.includes(\"/lab\")) {\n",
       "        // Guessing JupyterLa\n",
       "        console.log(\"Jupyter Lab detected; make sure the @webio/jupyter-lab-provider labextension is installed.\");\n",
       "        hide();\n",
       "        return;\n",
       "    }\n",
       "})();\n",
       "\n",
       "</script>\n",
       "<p\n",
       "    id=\"webio-warning-5778869639279644104\"\n",
       "    class=\"output_text output_stderr\"\n",
       "    style=\"padding: 1em; font-weight: bold;\"\n",
       ">\n",
       "    Unable to load WebIO. Please make sure WebIO works for your Jupyter client.\n",
       "    For troubleshooting, please see <a href=\"https://juliagizmos.github.io/WebIO.jl/latest/providers/ijulia/\">\n",
       "    the WebIO/IJulia documentation</a>.\n",
       "    <!-- TODO: link to installation docs. -->\n",
       "</p>\n"
      ],
      "text/plain": [
       "HTML{String}(\"<script>\\n// Immediately-invoked-function-expression to avoid global variables.\\n(function() {\\n    var warning_div = document.getElementById(\\\"webio-warning-5778869639279644104\\\");\\n    var hide = function () {\\n        var script = document.getElementById(\\\"webio-setup-16613519395045415030\\\");\\n        var parent = script && script.parentElement;\\n        var grandparent = parent && parent.parentElement;\\n        if (grandparent) {\\n            grandparent.style.display = \\\"none\\\";\\n        }\\n        warning_div.style.display = \\\"none\\\";\\n    };\\n    if (typeof Jupyter !== \\\"undefined\\\") {\\n        console.log(\\\"WebIO detected Jupyter notebook environment.\\\");\\n        // Jupyter notebook.\\n        var extensions = (\\n            Jupyter\\n            && Jupyter.notebook.config.data\\n            && Jupyter.notebook.config.data.load_extensions\\n        );\\n        if (extensions && extensions[\\\"webio-jupyter-notebook\\\"]) {\\n            // Extension already loaded.\\n            console.log(\\\"Jupyter WebIO nbextension detected; not loading ad-hoc.\\\");\\n            hide();\\n            return;\\n        }\\n    } else if (window.location.pathname.includes(\\\"/lab\\\")) {\\n        // Guessing JupyterLa\\n        console.log(\\\"Jupyter Lab detected; make sure the @webio/jupyter-lab-provider labextension is installed.\\\");\\n        hide();\\n        return;\\n    }\\n})();\\n\\n</script>\\n<p\\n    id=\\\"webio-warning-5778869639279644104\\\"\\n    class=\\\"output_text output_stderr\\\"\\n    style=\\\"padding: 1em; font-weight: bold;\\\"\\n>\\n    Unable to load WebIO. Please make sure WebIO works for your Jupyter client.\\n    For troubleshooting, please see <a href=\\\"https://juliagizmos.github.io/WebIO.jl/latest/providers/ijulia/\\\">\\n    the WebIO/IJulia documentation</a>.\\n    <!-- TODO: link to installation docs. -->\\n</p>\\n\")"
      ]
     },
     "metadata": {},
     "output_type": "display_data"
    },
    {
     "data": {
      "application/vnd.plotly.v1+json": {
       "data": [
        {
         "type": "scatter",
         "x": [
          1,
          2,
          3,
          4,
          5,
          6,
          7,
          8,
          9,
          10,
          11,
          12,
          13,
          14,
          15,
          16,
          17,
          18,
          19,
          20
         ],
         "y": [
          1.8551906744209663,
          1.1747383826991131,
          0.27312850282146517,
          0.034540497853714935,
          0.0038976674839066305,
          0.0004338256796536655,
          4.821214914763061e-05,
          5.3570202491748375e-06,
          5.952258894659224e-07,
          6.613622804962915e-08,
          7.348469832635374e-09,
          8.164962039813872e-10,
          9.072165241263974e-11,
          1.0080380974386571e-11,
          1.120437076451708e-12,
          1.247890679678676e-13,
          1.4210854715202004e-14,
          1.7763568394002505e-15,
          0,
          0
         ]
        }
       ],
       "layout": {
        "margin": {
         "b": 50,
         "l": 50,
         "r": 50,
         "t": 60
        },
        "width": 400,
        "xaxis": {
         "title": "Iteration"
        },
        "yaxis": {
         "title": "Error",
         "type": "log"
        }
       }
      },
      "application/vnd.webio.node+json": {
       "children": [
        {
         "children": [],
         "instanceArgs": {
          "namespace": "html",
          "tag": "div"
         },
         "nodeType": "DOM",
         "props": {
          "id": "plot-1ee575bc-27f5-4ed3-b0e5-a06d763458e9"
         },
         "type": "node"
        }
       ],
       "instanceArgs": {
        "handlers": {
         "__get_gd_contents": [
          "(function (prop){prop==\"data\" ? (WebIO.setval({\"name\":\"__gd_contents\",\"scope\":\"3071415829345427909\",\"id\":\"ob_06\",\"type\":\"observable\"},this.plotElem.data)) : undefined; return prop==\"layout\" ? (WebIO.setval({\"name\":\"__gd_contents\",\"scope\":\"3071415829345427909\",\"id\":\"ob_06\",\"type\":\"observable\"},this.plotElem.layout)) : undefined})"
         ],
         "_commands": [
          "(function (args){var fn=args.shift(); var elem=this.plotElem; var Plotly=this.Plotly; args.unshift(elem); return Plotly[fn].apply(this,args)})"
         ],
         "_downloadImage": [
          "(function (options){return this.Plotly.downloadImage(this.plotElem,options)})"
         ],
         "_toImage": [
          "(function (options){return this.Plotly.toImage(this.plotElem,options).then((function (data){return WebIO.setval({\"name\":\"image\",\"scope\":\"3071415829345427909\",\"id\":\"ob_05\",\"type\":\"observable\"},data)}))})"
         ]
        },
        "id": "3071415829345427909",
        "imports": {
         "data": [
          {
           "name": "Plotly",
           "type": "js",
           "url": "/assetserver/3600102be44f670a4aba410673a7b2d03c8e624f-plotly-latest.min.js"
          },
          {
           "name": null,
           "type": "js",
           "url": "/assetserver/71d41bf8f19b026d41cf00b503458e3e3b3868a0-plotly_webio.bundle.js"
          }
         ],
         "type": "async_block"
        },
        "mount_callbacks": [
         "function () {\n    var handler = ((function (Plotly){var gd=this.dom.querySelector(\"#plot-1ee575bc-27f5-4ed3-b0e5-a06d763458e9\"); this.plotElem=gd; this.Plotly=Plotly; (window.Blink!==undefined) ? (gd.style.width=\"100%\", gd.style.height=\"100vh\", gd.style.marginLeft=\"0%\", gd.style.marginTop=\"0vh\") : undefined; window.onresize=(function (){return Plotly.Plots.resize(gd)}); Plotly.newPlot(gd,[{\"y\":[1.8551906744209663,1.1747383826991131,0.27312850282146517,0.034540497853714935,0.0038976674839066305,0.0004338256796536655,4.821214914763061e-5,5.3570202491748375e-6,5.952258894659224e-7,6.613622804962915e-8,7.348469832635374e-9,8.164962039813872e-10,9.072165241263974e-11,1.0080380974386571e-11,1.120437076451708e-12,1.247890679678676e-13,1.4210854715202004e-14,1.7763568394002505e-15,0.0,0.0],\"type\":\"scatter\",\"x\":[1,2,3,4,5,6,7,8,9,10,11,12,13,14,15,16,17,18,19,20]}],{\"xaxis\":{\"title\":\"Iteration\"},\"margin\":{\"l\":50,\"b\":50,\"r\":50,\"t\":60},\"yaxis\":{\"type\":\"log\",\"title\":\"Error\"},\"width\":400},{}); gd.on(\"plotly_hover\",(function (data){var filtered_data=WebIO.PlotlyCommands.filterEventData(gd,data,\"hover\"); return !(filtered_data.isnil) ? (WebIO.setval({\"name\":\"hover\",\"scope\":\"3071415829345427909\",\"id\":\"ob_01\",\"type\":\"observable\"},filtered_data.out)) : undefined})); gd.on(\"plotly_unhover\",(function (){return WebIO.setval({\"name\":\"hover\",\"scope\":\"3071415829345427909\",\"id\":\"ob_01\",\"type\":\"observable\"},{})})); gd.on(\"plotly_selected\",(function (data){var filtered_data=WebIO.PlotlyCommands.filterEventData(gd,data,\"selected\"); return !(filtered_data.isnil) ? (WebIO.setval({\"name\":\"selected\",\"scope\":\"3071415829345427909\",\"id\":\"ob_02\",\"type\":\"observable\"},filtered_data.out)) : undefined})); gd.on(\"plotly_deselect\",(function (){return WebIO.setval({\"name\":\"selected\",\"scope\":\"3071415829345427909\",\"id\":\"ob_02\",\"type\":\"observable\"},{})})); gd.on(\"plotly_relayout\",(function (data){var filtered_data=WebIO.PlotlyCommands.filterEventData(gd,data,\"relayout\"); return !(filtered_data.isnil) ? (WebIO.setval({\"name\":\"relayout\",\"scope\":\"3071415829345427909\",\"id\":\"ob_04\",\"type\":\"observable\"},filtered_data.out)) : undefined})); return gd.on(\"plotly_click\",(function (data){var filtered_data=WebIO.PlotlyCommands.filterEventData(gd,data,\"click\"); return !(filtered_data.isnil) ? (WebIO.setval({\"name\":\"click\",\"scope\":\"3071415829345427909\",\"id\":\"ob_03\",\"type\":\"observable\"},filtered_data.out)) : undefined}))}));\n    (WebIO.importBlock({\"data\":[{\"name\":\"Plotly\",\"type\":\"js\",\"url\":\"/assetserver/3600102be44f670a4aba410673a7b2d03c8e624f-plotly-latest.min.js\"},{\"name\":null,\"type\":\"js\",\"url\":\"/assetserver/71d41bf8f19b026d41cf00b503458e3e3b3868a0-plotly_webio.bundle.js\"}],\"type\":\"async_block\"})).then((imports) => handler.apply(this, imports));\n}\n"
        ],
        "observables": {
         "__gd_contents": {
          "id": "ob_06",
          "sync": false,
          "value": {}
         },
         "__get_gd_contents": {
          "id": "ob_10",
          "sync": false,
          "value": ""
         },
         "_commands": {
          "id": "ob_07",
          "sync": false,
          "value": []
         },
         "_downloadImage": {
          "id": "ob_09",
          "sync": false,
          "value": {}
         },
         "_toImage": {
          "id": "ob_08",
          "sync": false,
          "value": {}
         },
         "click": {
          "id": "ob_03",
          "sync": false,
          "value": {}
         },
         "hover": {
          "id": "ob_01",
          "sync": false,
          "value": {}
         },
         "image": {
          "id": "ob_05",
          "sync": true,
          "value": ""
         },
         "relayout": {
          "id": "ob_04",
          "sync": false,
          "value": {}
         },
         "selected": {
          "id": "ob_02",
          "sync": false,
          "value": {}
         }
        },
        "systemjs_options": null
       },
       "nodeType": "Scope",
       "props": {},
       "type": "node"
      },
      "text/html": [
       "<div\n",
       "    class=\"webio-mountpoint\"\n",
       "    data-webio-mountpoint=\"12290902303298440770\"\n",
       ">\n",
       "    <script>\n",
       "    if (window.require && require.defined && require.defined(\"nbextensions/webio-jupyter-notebook\")) {\n",
       "        console.log(\"Jupyter WebIO extension detected, not mounting.\");\n",
       "    } else if (window.WebIO) {\n",
       "        WebIO.mount(\n",
       "            document.querySelector('[data-webio-mountpoint=\"12290902303298440770\"]'),\n",
       "            {\"props\":{},\"nodeType\":\"Scope\",\"type\":\"node\",\"instanceArgs\":{\"imports\":{\"data\":[{\"name\":\"Plotly\",\"type\":\"js\",\"url\":\"\\/assetserver\\/3600102be44f670a4aba410673a7b2d03c8e624f-plotly-latest.min.js\"},{\"name\":null,\"type\":\"js\",\"url\":\"\\/assetserver\\/71d41bf8f19b026d41cf00b503458e3e3b3868a0-plotly_webio.bundle.js\"}],\"type\":\"async_block\"},\"id\":\"3071415829345427909\",\"handlers\":{\"_toImage\":[\"(function (options){return this.Plotly.toImage(this.plotElem,options).then((function (data){return WebIO.setval({\\\"name\\\":\\\"image\\\",\\\"scope\\\":\\\"3071415829345427909\\\",\\\"id\\\":\\\"ob_05\\\",\\\"type\\\":\\\"observable\\\"},data)}))})\"],\"__get_gd_contents\":[\"(function (prop){prop==\\\"data\\\" ? (WebIO.setval({\\\"name\\\":\\\"__gd_contents\\\",\\\"scope\\\":\\\"3071415829345427909\\\",\\\"id\\\":\\\"ob_06\\\",\\\"type\\\":\\\"observable\\\"},this.plotElem.data)) : undefined; return prop==\\\"layout\\\" ? (WebIO.setval({\\\"name\\\":\\\"__gd_contents\\\",\\\"scope\\\":\\\"3071415829345427909\\\",\\\"id\\\":\\\"ob_06\\\",\\\"type\\\":\\\"observable\\\"},this.plotElem.layout)) : undefined})\"],\"_downloadImage\":[\"(function (options){return this.Plotly.downloadImage(this.plotElem,options)})\"],\"_commands\":[\"(function (args){var fn=args.shift(); var elem=this.plotElem; var Plotly=this.Plotly; args.unshift(elem); return Plotly[fn].apply(this,args)})\"]},\"systemjs_options\":null,\"mount_callbacks\":[\"function () {\\n    var handler = ((function (Plotly){var gd=this.dom.querySelector(\\\"#plot-1ee575bc-27f5-4ed3-b0e5-a06d763458e9\\\"); this.plotElem=gd; this.Plotly=Plotly; (window.Blink!==undefined) ? (gd.style.width=\\\"100%\\\", gd.style.height=\\\"100vh\\\", gd.style.marginLeft=\\\"0%\\\", gd.style.marginTop=\\\"0vh\\\") : undefined; window.onresize=(function (){return Plotly.Plots.resize(gd)}); Plotly.newPlot(gd,[{\\\"y\\\":[1.8551906744209663,1.1747383826991131,0.27312850282146517,0.034540497853714935,0.0038976674839066305,0.0004338256796536655,4.821214914763061e-5,5.3570202491748375e-6,5.952258894659224e-7,6.613622804962915e-8,7.348469832635374e-9,8.164962039813872e-10,9.072165241263974e-11,1.0080380974386571e-11,1.120437076451708e-12,1.247890679678676e-13,1.4210854715202004e-14,1.7763568394002505e-15,0.0,0.0],\\\"type\\\":\\\"scatter\\\",\\\"x\\\":[1,2,3,4,5,6,7,8,9,10,11,12,13,14,15,16,17,18,19,20]}],{\\\"xaxis\\\":{\\\"title\\\":\\\"Iteration\\\"},\\\"margin\\\":{\\\"l\\\":50,\\\"b\\\":50,\\\"r\\\":50,\\\"t\\\":60},\\\"yaxis\\\":{\\\"type\\\":\\\"log\\\",\\\"title\\\":\\\"Error\\\"},\\\"width\\\":400},{}); gd.on(\\\"plotly_hover\\\",(function (data){var filtered_data=WebIO.PlotlyCommands.filterEventData(gd,data,\\\"hover\\\"); return !(filtered_data.isnil) ? (WebIO.setval({\\\"name\\\":\\\"hover\\\",\\\"scope\\\":\\\"3071415829345427909\\\",\\\"id\\\":\\\"ob_01\\\",\\\"type\\\":\\\"observable\\\"},filtered_data.out)) : undefined})); gd.on(\\\"plotly_unhover\\\",(function (){return WebIO.setval({\\\"name\\\":\\\"hover\\\",\\\"scope\\\":\\\"3071415829345427909\\\",\\\"id\\\":\\\"ob_01\\\",\\\"type\\\":\\\"observable\\\"},{})})); gd.on(\\\"plotly_selected\\\",(function (data){var filtered_data=WebIO.PlotlyCommands.filterEventData(gd,data,\\\"selected\\\"); return !(filtered_data.isnil) ? (WebIO.setval({\\\"name\\\":\\\"selected\\\",\\\"scope\\\":\\\"3071415829345427909\\\",\\\"id\\\":\\\"ob_02\\\",\\\"type\\\":\\\"observable\\\"},filtered_data.out)) : undefined})); gd.on(\\\"plotly_deselect\\\",(function (){return WebIO.setval({\\\"name\\\":\\\"selected\\\",\\\"scope\\\":\\\"3071415829345427909\\\",\\\"id\\\":\\\"ob_02\\\",\\\"type\\\":\\\"observable\\\"},{})})); gd.on(\\\"plotly_relayout\\\",(function (data){var filtered_data=WebIO.PlotlyCommands.filterEventData(gd,data,\\\"relayout\\\"); return !(filtered_data.isnil) ? (WebIO.setval({\\\"name\\\":\\\"relayout\\\",\\\"scope\\\":\\\"3071415829345427909\\\",\\\"id\\\":\\\"ob_04\\\",\\\"type\\\":\\\"observable\\\"},filtered_data.out)) : undefined})); return gd.on(\\\"plotly_click\\\",(function (data){var filtered_data=WebIO.PlotlyCommands.filterEventData(gd,data,\\\"click\\\"); return !(filtered_data.isnil) ? (WebIO.setval({\\\"name\\\":\\\"click\\\",\\\"scope\\\":\\\"3071415829345427909\\\",\\\"id\\\":\\\"ob_03\\\",\\\"type\\\":\\\"observable\\\"},filtered_data.out)) : undefined}))}));\\n    (WebIO.importBlock({\\\"data\\\":[{\\\"name\\\":\\\"Plotly\\\",\\\"type\\\":\\\"js\\\",\\\"url\\\":\\\"\\/assetserver\\/3600102be44f670a4aba410673a7b2d03c8e624f-plotly-latest.min.js\\\"},{\\\"name\\\":null,\\\"type\\\":\\\"js\\\",\\\"url\\\":\\\"\\/assetserver\\/71d41bf8f19b026d41cf00b503458e3e3b3868a0-plotly_webio.bundle.js\\\"}],\\\"type\\\":\\\"async_block\\\"})).then((imports) => handler.apply(this, imports));\\n}\\n\"],\"observables\":{\"_toImage\":{\"sync\":false,\"id\":\"ob_08\",\"value\":{}},\"hover\":{\"sync\":false,\"id\":\"ob_01\",\"value\":{}},\"selected\":{\"sync\":false,\"id\":\"ob_02\",\"value\":{}},\"__gd_contents\":{\"sync\":false,\"id\":\"ob_06\",\"value\":{}},\"click\":{\"sync\":false,\"id\":\"ob_03\",\"value\":{}},\"image\":{\"sync\":true,\"id\":\"ob_05\",\"value\":\"\"},\"__get_gd_contents\":{\"sync\":false,\"id\":\"ob_10\",\"value\":\"\"},\"_downloadImage\":{\"sync\":false,\"id\":\"ob_09\",\"value\":{}},\"relayout\":{\"sync\":false,\"id\":\"ob_04\",\"value\":{}},\"_commands\":{\"sync\":false,\"id\":\"ob_07\",\"value\":[]}}},\"children\":[{\"props\":{\"id\":\"plot-1ee575bc-27f5-4ed3-b0e5-a06d763458e9\"},\"nodeType\":\"DOM\",\"type\":\"node\",\"instanceArgs\":{\"namespace\":\"html\",\"tag\":\"div\"},\"children\":[]}]},\n",
       "            window,\n",
       "        );\n",
       "    } else {\n",
       "        document\n",
       "            .querySelector('[data-webio-mountpoint=\"12290902303298440770\"]')\n",
       "            .innerHTML = (\n",
       "                '<strong>WebIO not detected. Please read ' +\n",
       "                '<a href=\"https://juliagizmos.github.io/WebIO.jl/latest/troubleshooting/not-detected/\">the troubleshooting guide</a> ' +\n",
       "                'for more information on how to resolve this issue.' +\n",
       "                '</strong>'\n",
       "            );\n",
       "    }\n",
       "    </script>\n",
       "</div>\n"
      ],
      "text/plain": [
       "data: [\n",
       "  \"scatter with fields type, x, and y\"\n",
       "]\n",
       "\n",
       "layout: \"layout with fields margin, width, xaxis, and yaxis\"\n",
       "\n"
      ]
     },
     "execution_count": 3,
     "metadata": {
      "application/vnd.webio.node+json": {
       "kernelId": "858de2ff-d910-4e2a-bac5-49c081bff759"
      }
     },
     "output_type": "execute_result"
    }
   ],
   "source": [
    "using PlotlyJS\n",
    "\n",
    "plot(err,Layout(yaxis_type=\"log\",xaxis_title=\"Iteration\",yaxis_title=\"Error\",width=400))"
   ]
  },
  {
   "cell_type": "markdown",
   "metadata": {},
   "source": [
    "Can show through a simple proof that the rate of convergence is $O(\\lambda_2/\n",
    "\\lambda_1)^k$."
   ]
  },
  {
   "cell_type": "markdown",
   "metadata": {},
   "source": [
    "\n",
    "### Inverse iteration\n",
    "Last method is good but does not take into consideration any guesses for where the eigenvalue is nor does it help us find the other eigenvalues. Idea is to apply power iteration to the matrix $(A-\\mu I)^{-1}$ whose largest eigenvalue is $1/(\\lambda_i - \\mu)$."
   ]
  },
  {
   "cell_type": "code",
   "execution_count": 4,
   "metadata": {},
   "outputs": [
    {
     "ename": "UndefVarError",
     "evalue": "UndefVarError: ev not defined",
     "output_type": "error",
     "traceback": [
      "UndefVarError: ev not defined",
      "",
      "Stacktrace:",
      " [1] top-level scope at In[4]:8"
     ]
    }
   ],
   "source": [
    "μ = 1.1\n",
    "\n",
    "for iter = 1:niter\n",
    "    z = (A-μ*I)\\q\n",
    "    q = z/norm(z)\n",
    "    ev = q'*A*q\n",
    "end\n",
    "print(ev)"
   ]
  },
  {
   "cell_type": "markdown",
   "metadata": {},
   "source": [
    "### Rayleigh quotient iteration"
   ]
  },
  {
   "cell_type": "code",
   "execution_count": 5,
   "metadata": {},
   "outputs": [
    {
     "data": {
      "text/plain": [
       "1.0000000000000002"
      ]
     },
     "execution_count": 5,
     "metadata": {},
     "output_type": "execute_result"
    }
   ],
   "source": [
    "for iter = 1:niter\n",
    "    z = (A-μ*I)\\q\n",
    "    q = z/norm(z)\n",
    "    μ = q'*A*q # update our guess as we go to improve convergence\n",
    "end\n",
    "return μ"
   ]
  },
  {
   "cell_type": "markdown",
   "metadata": {},
   "source": [
    "## Basic QR iteration\n",
    "* Will introduce in this section and develop it further in the succeeding section. \n",
    "* Can calculate all eigenvalues at the same time. \n",
    "* Here we assume that all the eigenvalues can be ordered (no equalities) \n",
    "\n",
    "### Orthogonal iteration\n",
    "#### Main idea for $r = 2$\n",
    "Pseudocode is as follows: \n",
    "* Start with two random orthogonal vectors $q_1$ and $q_2$\n",
    "* Keep multiplying them by $A$\n",
    "* Project $q_2$ onto space orthogonal to $q_1$\n",
    "* Normalize both vectors\n",
    "\n",
    "Clearly $q_1$ is undergoing power iteration and so is converging to the eigenvector $x_1$. \n",
    "\n",
    "Now, the update step for $q_2$ based on the above pseudocode is thus: \n",
    "$$ q_2^{k} \\approx (I-x_1 x_1^T)A q_2^{(k-1)}$$\n",
    "One way to view this update is that $q_2$ is undergoing power iteration for the matrix $(I-x_1 x_1^T)A$. We can show that this converges to the eigenvector $(I-x_1 x_1^T)x_2$ with associated eigenvalue $\\lambda_2$. Note that $q_2$ isn't necessarily converging to $x_2$ but one can visually rationalize that it is converging to the same space that would be spanned by $x_1$ and $x_2$ (instead spanned by $q_1$ and $q_2$). Namely if $x_1$ and $x_2$ are orthogonal then the angle between them is 90 degrees but if their dot product is close to one we see from the above equation that $q_2$ approaches $x_2 - x_1$ which is approximately zero (i.e. a small angle between them). In other words the relative angle between $x_2$ and $q_2$ may vary but the algorithm always converges to the same subspace.  \n",
    "\n",
    "We can use the fact that $\\text{span}\\{q_1, q_2\\} \\approx \\text{span}\\{x_1, x_2\\}$ to find the eigenvalues. That approximation (holding at convergence) implies that there is some vector that can be rotated via $Q$ into each of the eigenvectors: $Q v_i \\approx x_i$ for $i = 1,2$. Through a few lines can show that this gives rise to $Q^T A Q v_i \\approx \\lambda_i v_i$ meaning $\\lambda_1$ and $\\lambda_2$ are eigenvalues of $Q^T A Q$. Since we proved that $Q^T A Q$ converges to an upper-triangular matrix (can show the bottom left entry must be zero) then these eigenvalues must be the diagonal entries of said matrix. \n",
    "\n",
    "#### Orthogonal iteration for general $r$ \n",
    "Will show that in orthogonal iteration $Q$ (a matrix we randomly initialize) converges to $Q^x$ where $(Q^x)^T A Q^x$ is upper-triangular (like in the case of $r=2$) and so eigenvalues on the diagonal. \n",
    "\n",
    "Note that currently we are considering arbitrary $r < n$ but in the case that $r = n$ then we actually obtain the Schur decomposition. \n",
    "\n",
    "We begin by considering the QR decomposition of the first $r$ eigenvectors:\n",
    "$$ [x_1 | ... | x_r] = Q^x R^x$$\n",
    "The *claim* is that $Q$ is converging to this $Q^x$. As before, it's clear that $q_1$ is converging to $x_1$ which is equal to $q_1^x$ based on the above QR decomposition. \n",
    "\n",
    "Now $\\text{span}\\{x_1, x_2\\} = \\text{span}\\{q_1^x, q_2^x\\}$. Why? We just showed $x_1$ is equal to $q_1^x$ to a sign flip and clearly from the QR decomposition $x_2$ is a linear combination of $q_1^x$ and $q_2^x$. Thus the space spanned by $q_1$ and $q_2$ converges to that spanned by $q_1^x$ and $q_2^x$. \n",
    "\n",
    "So $q_2$ is converging to something in the space spanned by $q_1^x$ and $q_2^x$ but it has to be by definition orthogonal to $q_1\\approx q_1^x$. Thus it must be converging to the direction of $q_2^x$. This can be repeated for all columns via induction.  \n",
    "\n",
    "#### Convergence to the Schur decomposition \n",
    "* Note that we use the notation $Q^x$ and $R^x$ to denote the QR decomposition for the eigenvector matrix $X$. \n",
    "* Things to keep in mind: \n",
    "    * Inverse of an upper-triangular matrix is itself upper-triangular \n",
    "    * Product of two UT matrices is itself UT. \n",
    "* For square $Q$ (i.e. $r=n$ we get $T = Q^T A Q$ (the schur decomposition). \n",
    "\n",
    "### QR iteration\n",
    "* Yields the full Schur decomposition of a matrix: $T = Q^T A Q$ where $Q$ is orthogonal and $T$ is upper-triangular with eigenvalues on diagonal. \n",
    "\n",
    "### More methods to compute the eigendecomposition\n",
    "\n",
    "## QR Iteration\n",
    "We begin by noting that QR iteration works by updating $Q_k$ (the k-th iterate of $Q$ even though the eigenvalues show up on a different matrix $T_k = (Q_k)^T A Q_k$. Can we just calculate $T_{k+1}$ from $T_k$ somehow? \n",
    "\n",
    "Steps of QR iteration :\n",
    "1. Compute QR decomposition of $T_k = U_{k+1} R_{k+1}$ where $T_k=Q_k^T A Q_k$. \n",
    "2. Update $T_{k+1} = R_{k+1} U_{k+1}$\n",
    "Easiest way to run this algorithm is to initialize with $Q_0=I$. \n",
    "\n",
    "# Improvements to QR iteration \n",
    "As is, is not a great algorithm. QR factorization cost $O(n^3)$ flops and we have $O(n)$ iterations. \n",
    "\n",
    "## Starting with an upper Hessenberg matrix \n",
    "The brunt of the cost in the QR iteration comes from calculating the QR decomposition. Would be much faster if we had $A$ as upper Hessenberg, in which case we could simply apply Givens rotations (pg. 132 of CR). \n",
    "> In linear algebra, a Hessenberg matrix is a special kind of square matrix, one that is \"almost\" triangular. To be exact, an upper Hessenberg matrix has zero entries below the first subdiagonal, and a lower Hessenberg matrix has zero entries above the first superdiagonal. - *Wikipedia* \n",
    "\n",
    "Our goal is to:\n",
    "1. Find $Q$ so that $H=Q^TAQ$\n",
    "2. Run QR on H to find the Schur decomposition. \n",
    "Latter will take $O(n^3)$ so if we can do step one in $O(n^3)$ time then the total is $O(n^3)$. \n",
    "\n",
    "### Computing H\n",
    "\n",
    "### Running QR iteration on H\n",
    "- Comment notebook QR_Iteration_With_Shift.ipynb\n",
    "- Finish section 3.2 \n",
    "\n",
    "\n",
    "## QR with a shift strategy "
   ]
  },
  {
   "cell_type": "code",
   "execution_count": null,
   "metadata": {},
   "outputs": [],
   "source": []
  }
 ],
 "metadata": {
  "@webio": {
   "lastCommId": "813320a570454a2182fd2737f0b2ea20",
   "lastKernelId": "63f72cd8-6aff-4d15-8fd8-5c02d8d0b375"
  },
  "kernelspec": {
   "display_name": "Julia 1.2.0",
   "language": "julia",
   "name": "julia-1.2"
  },
  "language_info": {
   "file_extension": ".jl",
   "mimetype": "application/julia",
   "name": "julia",
   "version": "1.2.0"
  }
 },
 "nbformat": 4,
 "nbformat_minor": 2
}
